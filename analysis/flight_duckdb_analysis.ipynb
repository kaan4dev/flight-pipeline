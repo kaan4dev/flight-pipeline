{
 "cells": [
  {
   "cell_type": "code",
   "execution_count": 1,
   "id": "1dc2a099",
   "metadata": {},
   "outputs": [],
   "source": [
    "import os\n",
    "import duckdb\n",
    "import pandas as pd\n",
    "import matplotlib.pyplot as plt"
   ]
  },
  {
   "cell_type": "code",
   "execution_count": 2,
   "id": "8cc7c819",
   "metadata": {},
   "outputs": [
    {
     "name": "stdout",
     "output_type": "stream",
     "text": [
      "Working directory set to: /Users/kaancakir/data_projects_local/flight-pipeline\n"
     ]
    }
   ],
   "source": [
    "CURRENT_DIR = os.getcwd()\n",
    "while not CURRENT_DIR.endswith(\"flight-pipeline\") and CURRENT_DIR != \"/\":\n",
    "    CURRENT_DIR = os.path.dirname(CURRENT_DIR)\n",
    "os.chdir(CURRENT_DIR)\n",
    "print(\"Working directory set to:\", os.getcwd())"
   ]
  },
  {
   "cell_type": "code",
   "execution_count": 3,
   "id": "4cbc6c79",
   "metadata": {},
   "outputs": [],
   "source": [
    "DATA_DIR = os.path.join(CURRENT_DIR, \"data/processed/flights\")\n",
    "OUT_DIR = os.path.join(CURRENT_DIR, \"data/analysis\")\n",
    "os.makedirs(OUT_DIR, exist_ok=True)"
   ]
  },
  {
   "cell_type": "code",
   "execution_count": 4,
   "id": "8fa86f57",
   "metadata": {},
   "outputs": [
    {
     "name": "stdout",
     "output_type": "stream",
     "text": [
      "Reading file: /Users/kaancakir/data_projects_local/flight-pipeline/data/processed/flights/processed_flights_raw_20251010_000138.parquet\n"
     ]
    }
   ],
   "source": [
    "files = [f for f in os.listdir(DATA_DIR) if f.startswith(\"processed_flights_raw_\") and f.endswith(\".parquet\")]\n",
    "\n",
    "if not files:\n",
    "    raise FileNotFoundError(f\"No matching parquet files found in: {DATA_DIR}\")\n",
    "\n",
    "parquet_path = os.path.join(DATA_DIR, files[0])\n",
    "print(f\"Reading file: {parquet_path}\")"
   ]
  },
  {
   "cell_type": "code",
   "execution_count": 5,
   "id": "b5fdae73",
   "metadata": {},
   "outputs": [
    {
     "data": {
      "text/plain": [
       "<_duckdb.DuckDBPyConnection at 0x119149b70>"
      ]
     },
     "execution_count": 5,
     "metadata": {},
     "output_type": "execute_result"
    }
   ],
   "source": [
    "con = duckdb.connect()\n",
    "df = con.read_parquet(parquet_path)\n",
    "con.register(\"flights\", df)"
   ]
  },
  {
   "cell_type": "code",
   "execution_count": 6,
   "id": "63822fe4",
   "metadata": {},
   "outputs": [],
   "source": [
    "q_top_countries = \"\"\"\n",
    "SELECT \n",
    "    origin_country,\n",
    "    COUNT(*) AS flight_count,\n",
    "    ROUND(AVG(velocity_kmh), 2) AS avg_velocity\n",
    "FROM flights\n",
    "GROUP BY origin_country\n",
    "ORDER BY flight_count DESC\n",
    "LIMIT 20;\n",
    "\"\"\"\n",
    "df_top_countries = con.sql(q_top_countries).df()\n",
    "df_top_countries.to_csv(os.path.join(OUT_DIR, \"top_countries.csv\"), index=False)"
   ]
  },
  {
   "cell_type": "code",
   "execution_count": 7,
   "id": "97ea537f",
   "metadata": {},
   "outputs": [],
   "source": [
    "q_speed_dist = \"\"\"\n",
    "SELECT \n",
    "    ROUND(velocity_kmh, -1) AS speed_bin,\n",
    "    COUNT(*) AS count\n",
    "FROM flights\n",
    "WHERE velocity_kmh IS NOT NULL\n",
    "GROUP BY speed_bin\n",
    "ORDER BY speed_bin;\n",
    "\"\"\"\n",
    "df_speed_dist = con.sql(q_speed_dist).df()\n",
    "df_speed_dist.to_csv(os.path.join(OUT_DIR, \"speed_distribution.csv\"), index=False)"
   ]
  },
  {
   "cell_type": "code",
   "execution_count": 8,
   "id": "6f287321",
   "metadata": {},
   "outputs": [],
   "source": [
    "q_altitude = \"\"\"\n",
    "SELECT \n",
    "    origin_country,\n",
    "    ROUND(AVG(baro_altitude), 0) AS avg_altitude\n",
    "FROM flights\n",
    "WHERE baro_altitude IS NOT NULL\n",
    "GROUP BY origin_country\n",
    "ORDER BY avg_altitude DESC\n",
    "LIMIT 15;\n",
    "\"\"\"\n",
    "df_altitude = con.sql(q_altitude).df()\n",
    "df_altitude.to_csv(os.path.join(OUT_DIR, \"avg_altitude.csv\"), index=False)"
   ]
  },
  {
   "cell_type": "code",
   "execution_count": 9,
   "id": "a7769a87",
   "metadata": {},
   "outputs": [
    {
     "name": "stdout",
     "output_type": "stream",
     "text": [
      "Correlation between speed and altitude: 0.916\n"
     ]
    }
   ],
   "source": [
    "q_corr = \"\"\"\n",
    "SELECT \n",
    "    CORR(velocity_kmh, baro_altitude) AS corr_speed_altitude\n",
    "FROM flights\n",
    "WHERE velocity_kmh IS NOT NULL AND baro_altitude IS NOT NULL;\n",
    "\"\"\"\n",
    "df_corr = con.sql(q_corr).df()\n",
    "corr_value = df_corr.iloc[0, 0]\n",
    "print(f\"Correlation between speed and altitude: {corr_value:.3f}\")"
   ]
  },
  {
   "cell_type": "code",
   "execution_count": 10,
   "id": "57fbeba3",
   "metadata": {},
   "outputs": [],
   "source": [
    "q_fastest_countries = \"\"\"\n",
    "SELECT \n",
    "    origin_country,\n",
    "    ROUND(AVG(velocity_kmh), 2) AS avg_velocity\n",
    "FROM flights\n",
    "WHERE velocity_kmh IS NOT NULL\n",
    "GROUP BY origin_country\n",
    "HAVING COUNT(*) > 30\n",
    "ORDER BY avg_velocity DESC\n",
    "LIMIT 10;\n",
    "\"\"\"\n",
    "df_fastest_countries = con.sql(q_fastest_countries).df()\n",
    "df_fastest_countries.to_csv(os.path.join(OUT_DIR, \"fastest_countries.csv\"), index=False)\n"
   ]
  },
  {
   "cell_type": "code",
   "execution_count": 11,
   "id": "0c9229c6",
   "metadata": {},
   "outputs": [],
   "source": [
    "plt.figure(figsize=(10, 5))\n",
    "plt.bar(df_top_countries[\"origin_country\"], df_top_countries[\"flight_count\"])\n",
    "plt.xticks(rotation=45, ha=\"right\")\n",
    "plt.title(\"Top 20 Countries by Flight Count\")\n",
    "plt.xlabel(\"Country\")\n",
    "plt.ylabel(\"Number of Flights\")\n",
    "plt.tight_layout()\n",
    "plt.savefig(os.path.join(OUT_DIR, \"top_countries.png\"))\n",
    "plt.close()"
   ]
  },
  {
   "cell_type": "code",
   "execution_count": 12,
   "id": "88c4b858",
   "metadata": {},
   "outputs": [],
   "source": [
    "plt.figure(figsize=(10, 5))\n",
    "plt.plot(df_speed_dist[\"speed_bin\"], df_speed_dist[\"count\"], marker=\"o\")\n",
    "plt.title(\"Speed Distribution of Flights (km/h)\")\n",
    "plt.xlabel(\"Speed (km/h)\")\n",
    "plt.ylabel(\"Count\")\n",
    "plt.grid(True)\n",
    "plt.tight_layout()\n",
    "plt.savefig(os.path.join(OUT_DIR, \"speed_distribution.png\"))\n",
    "plt.close()"
   ]
  },
  {
   "cell_type": "code",
   "execution_count": 13,
   "id": "2658ab3b",
   "metadata": {},
   "outputs": [],
   "source": [
    "plt.figure(figsize=(10, 5))\n",
    "plt.bar(df_altitude[\"origin_country\"], df_altitude[\"avg_altitude\"])\n",
    "plt.xticks(rotation=45, ha=\"right\")\n",
    "plt.title(\"Average Barometric Altitude by Country\")\n",
    "plt.xlabel(\"Country\")\n",
    "plt.ylabel(\"Average Altitude (m)\")\n",
    "plt.tight_layout()\n",
    "plt.savefig(os.path.join(OUT_DIR, \"avg_altitude.png\"))\n",
    "plt.close()"
   ]
  },
  {
   "cell_type": "code",
   "execution_count": 14,
   "id": "36a119d6",
   "metadata": {},
   "outputs": [
    {
     "name": "stdout",
     "output_type": "stream",
     "text": [
      "Analysis complete. Files saved to: /Users/kaancakir/data_projects_local/flight-pipeline/data/analysis\n"
     ]
    }
   ],
   "source": [
    "print(\"Analysis complete. Files saved to:\", OUT_DIR)"
   ]
  }
 ],
 "metadata": {
  "kernelspec": {
   "display_name": "venv",
   "language": "python",
   "name": "python3"
  },
  "language_info": {
   "codemirror_mode": {
    "name": "ipython",
    "version": 3
   },
   "file_extension": ".py",
   "mimetype": "text/x-python",
   "name": "python",
   "nbconvert_exporter": "python",
   "pygments_lexer": "ipython3",
   "version": "3.12.11"
  }
 },
 "nbformat": 4,
 "nbformat_minor": 5
}
